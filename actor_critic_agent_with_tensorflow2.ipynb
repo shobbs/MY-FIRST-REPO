{
  "nbformat": 4,
  "nbformat_minor": 0,
  "metadata": {
    "colab": {
      "name": "actor-critic-agent-with-tensorflow2.ipynb",
      "version": "0.3.2",
      "provenance": [],
      "collapsed_sections": [],
      "include_colab_link": true
    },
    "kernelspec": {
      "display_name": "Python 3",
      "language": "python",
      "name": "python3"
    }
  },
  "cells": [
    {
      "cell_type": "markdown",
      "metadata": {
        "id": "view-in-github",
        "colab_type": "text"
      },
      "source": [
        "<a href=\"https://colab.research.google.com/github/shobbs/MY-FIRST-REPO/blob/master/actor_critic_agent_with_tensorflow2.ipynb\" target=\"_parent\"><img src=\"https://colab.research.google.com/assets/colab-badge.svg\" alt=\"Open In Colab\"/></a>"
      ]
    },
    {
      "metadata": {
        "id": "0IFjMkr_g4ZK",
        "colab_type": "text"
      },
      "cell_type": "markdown",
      "source": [
        "## Setup"
      ]
    },
    {
      "metadata": {
        "id": "08aIvFN7hNhl",
        "colab_type": "code",
        "outputId": "da205c9e-5f7c-440b-9813-f759e2204d86",
        "colab": {
          "base_uri": "https://localhost:8080/",
          "height": 520
        }
      },
      "cell_type": "code",
      "source": [
        "!pip install tf-nightly-2.0-preview"
      ],
      "execution_count": 1,
      "outputs": [
        {
          "output_type": "stream",
          "text": [
            "Collecting tf-nightly-2.0-preview\n",
            "\u001b[?25l  Downloading https://files.pythonhosted.org/packages/2d/29/a0fb7ec64dffc37cd9ad2f112b563a46c66b3db4195954c39a5970f0e08f/tf_nightly_2.0_preview-1.13.0.dev20190117-cp36-cp36m-manylinux1_x86_64.whl (75.1MB)\n",
            "\u001b[K    100% |████████████████████████████████| 75.1MB 408kB/s \n",
            "\u001b[?25hCollecting tb-nightly<1.14.0a0,>=1.13.0a0 (from tf-nightly-2.0-preview)\n",
            "\u001b[?25l  Downloading https://files.pythonhosted.org/packages/60/73/bff7143f1f258771814c396519342adf6d2342c86cc410775c29ed651fb4/tb_nightly-1.13.0a20190120-py3-none-any.whl (3.2MB)\n",
            "\u001b[K    100% |████████████████████████████████| 3.2MB 8.0MB/s \n",
            "\u001b[?25hRequirement already satisfied: keras-applications>=1.0.6 in /usr/local/lib/python3.6/dist-packages (from tf-nightly-2.0-preview) (1.0.6)\n",
            "Requirement already satisfied: protobuf>=3.6.1 in /usr/local/lib/python3.6/dist-packages (from tf-nightly-2.0-preview) (3.6.1)\n",
            "Collecting tensorflow-estimator-2.0-preview (from tf-nightly-2.0-preview)\n",
            "\u001b[?25l  Downloading https://files.pythonhosted.org/packages/2b/a4/e4fc4c0854ef7e355bd7b90c6b820b78324e82384c38682f19379f111aaf/tensorflow_estimator_2.0_preview-1.13.0.dev2019012000-py2.py3-none-any.whl (296kB)\n",
            "\u001b[K    100% |████████████████████████████████| 296kB 11.2MB/s \n",
            "\u001b[?25hRequirement already satisfied: termcolor>=1.1.0 in /usr/local/lib/python3.6/dist-packages (from tf-nightly-2.0-preview) (1.1.0)\n",
            "Requirement already satisfied: absl-py>=0.1.6 in /usr/local/lib/python3.6/dist-packages (from tf-nightly-2.0-preview) (0.6.1)\n",
            "Requirement already satisfied: wheel>=0.26 in /usr/local/lib/python3.6/dist-packages (from tf-nightly-2.0-preview) (0.32.3)\n",
            "Requirement already satisfied: numpy>=1.13.3 in /usr/local/lib/python3.6/dist-packages (from tf-nightly-2.0-preview) (1.14.6)\n",
            "Requirement already satisfied: keras-preprocessing>=1.0.5 in /usr/local/lib/python3.6/dist-packages (from tf-nightly-2.0-preview) (1.0.5)\n",
            "Requirement already satisfied: gast>=0.2.0 in /usr/local/lib/python3.6/dist-packages (from tf-nightly-2.0-preview) (0.2.2)\n",
            "Collecting google-pasta>=0.1.1 (from tf-nightly-2.0-preview)\n",
            "\u001b[?25l  Downloading https://files.pythonhosted.org/packages/86/6c/9eabce1c1cdaa657751a802f94d71ca29b8f82e10cac97c3fd5f8c82736c/google_pasta-0.1.1-py3-none-any.whl (51kB)\n",
            "\u001b[K    100% |████████████████████████████████| 61kB 24.0MB/s \n",
            "\u001b[?25hRequirement already satisfied: astor>=0.6.0 in /usr/local/lib/python3.6/dist-packages (from tf-nightly-2.0-preview) (0.7.1)\n",
            "Requirement already satisfied: six>=1.10.0 in /usr/local/lib/python3.6/dist-packages (from tf-nightly-2.0-preview) (1.11.0)\n",
            "Requirement already satisfied: grpcio>=1.8.6 in /usr/local/lib/python3.6/dist-packages (from tf-nightly-2.0-preview) (1.15.0)\n",
            "Requirement already satisfied: werkzeug>=0.11.15 in /usr/local/lib/python3.6/dist-packages (from tb-nightly<1.14.0a0,>=1.13.0a0->tf-nightly-2.0-preview) (0.14.1)\n",
            "Requirement already satisfied: markdown>=2.6.8 in /usr/local/lib/python3.6/dist-packages (from tb-nightly<1.14.0a0,>=1.13.0a0->tf-nightly-2.0-preview) (3.0.1)\n",
            "Requirement already satisfied: h5py in /usr/local/lib/python3.6/dist-packages (from keras-applications>=1.0.6->tf-nightly-2.0-preview) (2.8.0)\n",
            "Requirement already satisfied: setuptools in /usr/local/lib/python3.6/dist-packages (from protobuf>=3.6.1->tf-nightly-2.0-preview) (40.6.3)\n",
            "Installing collected packages: tb-nightly, tensorflow-estimator-2.0-preview, google-pasta, tf-nightly-2.0-preview\n",
            "Successfully installed google-pasta-0.1.1 tb-nightly-1.13.0a20190120 tensorflow-estimator-2.0-preview-1.13.0.dev2019012000 tf-nightly-2.0-preview-1.13.0.dev20190117\n"
          ],
          "name": "stdout"
        }
      ]
    },
    {
      "metadata": {
        "id": "QipBW2W7g4ZL",
        "colab_type": "code",
        "colab": {}
      },
      "cell_type": "code",
      "source": [
        "import gym\n",
        "import logging\n",
        "import numpy as np\n",
        "import tensorflow as tf\n",
        "import tensorflow.keras.layers as kl\n",
        "import tensorflow.keras.losses as kls\n",
        "import tensorflow.keras.optimizers as ko"
      ],
      "execution_count": 0,
      "outputs": []
    },
    {
      "metadata": {
        "id": "rPMkxVFBg85m",
        "colab_type": "text"
      },
      "cell_type": "markdown",
      "source": [
        "# Deep Reinforcement Learning with TensorFlow 2.0"
      ]
    },
    {
      "metadata": {
        "id": "oyx5ah4Xg4ZO",
        "colab_type": "code",
        "colab": {}
      },
      "cell_type": "code",
      "source": [
        "import matplotlib\n",
        "import matplotlib.pyplot as plt\n",
        "%matplotlib inline  "
      ],
      "execution_count": 0,
      "outputs": []
    },
    {
      "metadata": {
        "id": "kmjplMPwg4ZR",
        "colab_type": "code",
        "outputId": "664c0f1c-706d-4055-93e7-95b005080f7e",
        "colab": {
          "base_uri": "https://localhost:8080/",
          "height": 52
        }
      },
      "cell_type": "code",
      "source": [
        "print(\"TensorFlow Ver: \", tf.__version__)\n",
        "print(\"Eager Execution:\", tf.executing_eagerly())"
      ],
      "execution_count": 4,
      "outputs": [
        {
          "output_type": "stream",
          "text": [
            "TensorFlow Ver:  1.13.0-dev20190117\n",
            "Eager Execution: True\n"
          ],
          "name": "stdout"
        }
      ]
    },
    {
      "metadata": {
        "id": "lr62U1IPg4ZU",
        "colab_type": "code",
        "outputId": "24d73fde-7609-4a85-a67a-88f450c45416",
        "colab": {
          "base_uri": "https://localhost:8080/",
          "height": 35
        }
      },
      "cell_type": "code",
      "source": [
        "# eager by default!\n",
        "print(\"1 + 2 + 3 + 4 + 5 =\", tf.reduce_sum([1, 2, 3, 4, 5]))"
      ],
      "execution_count": 5,
      "outputs": [
        {
          "output_type": "stream",
          "text": [
            "1 + 2 + 3 + 4 + 5 = tf.Tensor(15, shape=(), dtype=int32)\n"
          ],
          "name": "stdout"
        }
      ]
    },
    {
      "metadata": {
        "id": "1kO-Mnllg4ZX",
        "colab_type": "text"
      },
      "cell_type": "markdown",
      "source": [
        "## Advantage Actor-Critic with TensorFlow 2.0"
      ]
    },
    {
      "metadata": {
        "id": "jFGPAkQNg4ZX",
        "colab_type": "text"
      },
      "cell_type": "markdown",
      "source": [
        "### Policy & Value Model Class"
      ]
    },
    {
      "metadata": {
        "id": "wIQ8YHmxg4ZZ",
        "colab_type": "code",
        "colab": {}
      },
      "cell_type": "code",
      "source": [
        "class ProbabilityDistribution(tf.keras.Model):\n",
        "    def call(self, logits):\n",
        "        # sample a random categorical action from given logits\n",
        "        return tf.squeeze(tf.random.categorical(logits, 1), axis=-1)\n",
        "\n",
        "class Model(tf.keras.Model):\n",
        "    def __init__(self, num_actions):\n",
        "        super().__init__('mlp_policy')\n",
        "        # no tf.get_variable(), just simple Keras API\n",
        "        self.hidden1 = kl.Dense(128, activation='relu')\n",
        "        self.hidden2 = kl.Dense(128, activation='relu')\n",
        "        self.value = kl.Dense(1, name='value')\n",
        "        # logits are unnormalized log probabilities\n",
        "        self.logits = kl.Dense(num_actions, name='policy_logits')\n",
        "        self.dist = ProbabilityDistribution()\n",
        "\n",
        "    def call(self, inputs):\n",
        "        # inputs is a numpy array, convert to Tensor\n",
        "        x = tf.convert_to_tensor(inputs)\n",
        "        # separate hidden layers from the same input tensor\n",
        "        hidden_logs = self.hidden1(x)\n",
        "        hidden_vals = self.hidden2(x)\n",
        "        return self.logits(hidden_logs), self.value(hidden_vals)\n",
        "\n",
        "    def action_value(self, obs):\n",
        "        # executes call() under the hood\n",
        "        logits, value = self.predict(obs)\n",
        "        action = self.dist.predict(logits)\n",
        "        # a simpler option, will become clear later why we don't use it\n",
        "        # action = tf.random.categorical(logits, 1)\n",
        "        return np.squeeze(action, axis=-1), np.squeeze(value, axis=-1)"
      ],
      "execution_count": 0,
      "outputs": []
    },
    {
      "metadata": {
        "id": "_g8dFW1rg4Zb",
        "colab_type": "text"
      },
      "cell_type": "markdown",
      "source": [
        "### Advantage Actor-Critic Agent Class"
      ]
    },
    {
      "metadata": {
        "id": "M-pKLzu2g4Zb",
        "colab_type": "code",
        "colab": {}
      },
      "cell_type": "code",
      "source": [
        "class A2CAgent:\n",
        "    def __init__(self, model):\n",
        "        # hyperparameters for loss terms, gamma is the discount coefficient\n",
        "        self.params = {\n",
        "            'gamma': 0.99,\n",
        "            'value': 0.5,\n",
        "            'entropy': 0.0001\n",
        "        }\n",
        "        self.model = model\n",
        "        self.model.compile(\n",
        "            optimizer=ko.RMSprop(lr=0.0007),\n",
        "            # define separate losses for policy logits and value estimate\n",
        "            loss=[self._logits_loss, self._value_loss]\n",
        "        )\n",
        "    \n",
        "    def train(self, env, batch_sz=32, updates=1000):\n",
        "        # storage helpers for a single batch of data\n",
        "        actions = np.empty((batch_sz,), dtype=np.int32)\n",
        "        rewards, dones, values = np.empty((3, batch_sz))\n",
        "        observations = np.empty((batch_sz,) + env.observation_space.shape)\n",
        "        # training loop: collect samples, send to optimizer, repeat updates times\n",
        "        ep_rews = [0.0]\n",
        "        next_obs = env.reset()\n",
        "        for update in range(updates):\n",
        "            for step in range(batch_sz):\n",
        "                observations[step] = next_obs.copy()\n",
        "                actions[step], values[step] = self.model.action_value(next_obs[None, :])\n",
        "                next_obs, rewards[step], dones[step], _ = env.step(actions[step])\n",
        "\n",
        "                ep_rews[-1] += rewards[step]\n",
        "                if dones[step]:\n",
        "                    ep_rews.append(0.0)\n",
        "                    next_obs = env.reset()\n",
        "                    logging.info(\"Episode: %03d, Reward: %03d\" % (len(ep_rews)-1, ep_rews[-2]))\n",
        "\n",
        "            _, next_value = self.model.action_value(next_obs[None, :])\n",
        "            returns, advs = self._returns_advantages(rewards, dones, values, next_value)\n",
        "            # a trick to input actions and advantages through same API\n",
        "            acts_and_advs = np.concatenate([actions[:, None], advs[:, None]], axis=-1)\n",
        "            # performs a full training step on the collected batch\n",
        "            # note: no need to mess around with gradients, Keras API handles it\n",
        "            losses = self.model.train_on_batch(observations, [acts_and_advs, returns])\n",
        "            logging.debug(\"[%d/%d] Losses: %s\" % (update+1, updates, losses))\n",
        "        return ep_rews\n",
        "\n",
        "    def test(self, env, render=False):\n",
        "        obs, done, ep_reward = env.reset(), False, 0\n",
        "        while not done:\n",
        "            action, _ = self.model.action_value(obs[None, :])\n",
        "            obs, reward, done, _ = env.step(action)\n",
        "            ep_reward += reward\n",
        "            if render:\n",
        "                env.render()\n",
        "        return ep_reward\n",
        "\n",
        "    def _returns_advantages(self, rewards, dones, values, next_value):\n",
        "        # next_value is the bootstrap value estimate of a future state (the critic)\n",
        "        returns = np.append(np.zeros_like(rewards), next_value, axis=-1)\n",
        "        # returns are calculated as discounted sum of future rewards\n",
        "        for t in reversed(range(rewards.shape[0])):\n",
        "            returns[t] = rewards[t] + self.params['gamma'] * returns[t+1] * (1-dones[t])\n",
        "        returns = returns[:-1]\n",
        "        # advantages are returns - baseline, value estimates in our case\n",
        "        advantages = returns - values\n",
        "        return returns, advantages\n",
        "    \n",
        "    def _value_loss(self, returns, value):\n",
        "        # value loss is typically MSE between value estimates and returns\n",
        "        return self.params['value']*kls.mean_squared_error(returns, value)\n",
        "\n",
        "    def _logits_loss(self, acts_and_advs, logits):\n",
        "        # a trick to input actions and advantages through same API\n",
        "        actions, advantages = tf.split(acts_and_advs, 2, axis=-1)\n",
        "        # polymorphic CE loss function that supports sparse and weighted options\n",
        "        # from_logits argument ensures transformation into normalized probabilities\n",
        "        cross_entropy = kls.CategoricalCrossentropy(from_logits=True)\n",
        "        # policy loss is defined by policy gradients, weighted by advantages\n",
        "        # note: we only calculate the loss on the actions we've actually taken\n",
        "        # thus under the hood a sparse version of CE loss will be executed\n",
        "        actions = tf.cast(actions, tf.int32)\n",
        "        policy_loss = cross_entropy(actions, logits, sample_weight=advantages)\n",
        "        # entropy loss can be calculated via CE over itself\n",
        "        entropy_loss = cross_entropy(logits, logits)\n",
        "        # here signs are flipped because optimizer minimizes\n",
        "        return policy_loss - self.params['entropy']*entropy_loss"
      ],
      "execution_count": 0,
      "outputs": []
    },
    {
      "metadata": {
        "id": "yf1I04Ttg4Ze",
        "colab_type": "code",
        "outputId": "26851299-6738-4e6c-d6df-8df229c99a96",
        "colab": {
          "base_uri": "https://localhost:8080/",
          "height": 121
        }
      },
      "cell_type": "code",
      "source": [
        "env = gym.make('CartPole-v0')\n",
        "model = Model(num_actions=env.action_space.n)\n",
        "model.action_value(env.reset()[None, :])"
      ],
      "execution_count": 10,
      "outputs": [
        {
          "output_type": "stream",
          "text": [
            "WARNING:tensorflow:From /usr/local/lib/python3.6/dist-packages/tensorflow/python/ops/resource_variable_ops.py:655: colocate_with (from tensorflow.python.framework.ops) is deprecated and will be removed in a future version.\n",
            "Instructions for updating:\n",
            "Colocations handled automatically by placer.\n"
          ],
          "name": "stdout"
        },
        {
          "output_type": "stream",
          "text": [
            "/usr/local/lib/python3.6/dist-packages/gym/envs/registration.py:14: PkgResourcesDeprecationWarning: Parameters to load are deprecated.  Call .resolve and .require separately.\n",
            "  result = entry_point.load(False)\n"
          ],
          "name": "stderr"
        },
        {
          "output_type": "execute_result",
          "data": {
            "text/plain": [
              "(array(0), array([0.00873219], dtype=float32))"
            ]
          },
          "metadata": {
            "tags": []
          },
          "execution_count": 10
        }
      ]
    },
    {
      "metadata": {
        "id": "n8LFt3keg4Zh",
        "colab_type": "text"
      },
      "cell_type": "markdown",
      "source": [
        "## Training A2C Agent & Results"
      ]
    },
    {
      "metadata": {
        "id": "1mxzrB1Ng4Zi",
        "colab_type": "code",
        "outputId": "fd54b97c-dc77-4f03-8162-d2f688bdcf58",
        "colab": {
          "base_uri": "https://localhost:8080/",
          "height": 52
        }
      },
      "cell_type": "code",
      "source": [
        "env = gym.make('CartPole-v0')\n",
        "model = Model(num_actions=env.action_space.n)\n",
        "agent = A2CAgent(model)"
      ],
      "execution_count": 11,
      "outputs": [
        {
          "output_type": "stream",
          "text": [
            "/usr/local/lib/python3.6/dist-packages/gym/envs/registration.py:14: PkgResourcesDeprecationWarning: Parameters to load are deprecated.  Call .resolve and .require separately.\n",
            "  result = entry_point.load(False)\n"
          ],
          "name": "stderr"
        }
      ]
    },
    {
      "metadata": {
        "id": "KR7v0mBig4Zl",
        "colab_type": "text"
      },
      "cell_type": "markdown",
      "source": [
        "### Testing with Random Weights"
      ]
    },
    {
      "metadata": {
        "id": "k3JFA1pDg4Zl",
        "colab_type": "code",
        "outputId": "accd2dfa-52a7-442c-ddd9-bf40acc41e61",
        "colab": {
          "base_uri": "https://localhost:8080/",
          "height": 35
        }
      },
      "cell_type": "code",
      "source": [
        "rewards_sum = agent.test(env)\n",
        "print(\"Total Episode Reward: %d out of 200\" % agent.test(env))"
      ],
      "execution_count": 12,
      "outputs": [
        {
          "output_type": "stream",
          "text": [
            "Total Episode Reward: 19 out of 200\n"
          ],
          "name": "stdout"
        }
      ]
    },
    {
      "metadata": {
        "id": "25FRn0aRg4Zo",
        "colab_type": "code",
        "outputId": "3b70c589-401d-4625-b1d8-0dbaf59fd3a0",
        "colab": {
          "base_uri": "https://localhost:8080/",
          "height": 7453
        }
      },
      "cell_type": "code",
      "source": [
        "# set to logging.WARNING to disable logs or logging.DEBUG to see losses as well\n",
        "logging.basicConfig(level=logging.INFO)\n",
        "\n",
        "rewards_history = agent.train(env)\n",
        "print(\"Finished training.\")"
      ],
      "execution_count": 17,
      "outputs": [
        {
          "output_type": "stream",
          "text": [
            "INFO:root:Episode: 001, Reward: 031\n",
            "INFO:root:Episode: 002, Reward: 017\n",
            "INFO:root:Episode: 003, Reward: 025\n",
            "INFO:root:Episode: 004, Reward: 018\n",
            "INFO:root:Episode: 005, Reward: 028\n",
            "INFO:root:Episode: 006, Reward: 011\n",
            "INFO:root:Episode: 007, Reward: 015\n",
            "INFO:root:Episode: 008, Reward: 015\n",
            "INFO:root:Episode: 009, Reward: 013\n",
            "INFO:root:Episode: 010, Reward: 043\n",
            "INFO:root:Episode: 011, Reward: 014\n",
            "INFO:root:Episode: 012, Reward: 036\n",
            "INFO:root:Episode: 013, Reward: 032\n",
            "INFO:root:Episode: 014, Reward: 038\n",
            "INFO:root:Episode: 015, Reward: 011\n",
            "INFO:root:Episode: 016, Reward: 024\n",
            "INFO:root:Episode: 017, Reward: 018\n",
            "INFO:root:Episode: 018, Reward: 021\n",
            "INFO:root:Episode: 019, Reward: 011\n",
            "INFO:root:Episode: 020, Reward: 024\n",
            "INFO:root:Episode: 021, Reward: 015\n",
            "INFO:root:Episode: 022, Reward: 014\n",
            "INFO:root:Episode: 023, Reward: 035\n",
            "INFO:root:Episode: 024, Reward: 038\n",
            "INFO:root:Episode: 025, Reward: 025\n",
            "INFO:root:Episode: 026, Reward: 021\n",
            "INFO:root:Episode: 027, Reward: 017\n",
            "INFO:root:Episode: 028, Reward: 017\n",
            "INFO:root:Episode: 029, Reward: 018\n",
            "INFO:root:Episode: 030, Reward: 023\n",
            "INFO:root:Episode: 031, Reward: 014\n",
            "INFO:root:Episode: 032, Reward: 034\n",
            "INFO:root:Episode: 033, Reward: 012\n",
            "INFO:root:Episode: 034, Reward: 020\n",
            "INFO:root:Episode: 035, Reward: 011\n",
            "INFO:root:Episode: 036, Reward: 079\n",
            "INFO:root:Episode: 037, Reward: 030\n",
            "INFO:root:Episode: 038, Reward: 025\n",
            "INFO:root:Episode: 039, Reward: 024\n",
            "INFO:root:Episode: 040, Reward: 022\n",
            "INFO:root:Episode: 041, Reward: 016\n",
            "INFO:root:Episode: 042, Reward: 014\n",
            "INFO:root:Episode: 043, Reward: 036\n",
            "INFO:root:Episode: 044, Reward: 018\n",
            "INFO:root:Episode: 045, Reward: 039\n",
            "INFO:root:Episode: 046, Reward: 028\n",
            "INFO:root:Episode: 047, Reward: 021\n",
            "INFO:root:Episode: 048, Reward: 044\n",
            "INFO:root:Episode: 049, Reward: 014\n",
            "INFO:root:Episode: 050, Reward: 019\n",
            "INFO:root:Episode: 051, Reward: 031\n",
            "INFO:root:Episode: 052, Reward: 014\n",
            "INFO:root:Episode: 053, Reward: 031\n",
            "INFO:root:Episode: 054, Reward: 016\n",
            "INFO:root:Episode: 055, Reward: 021\n",
            "INFO:root:Episode: 056, Reward: 011\n",
            "INFO:root:Episode: 057, Reward: 050\n",
            "INFO:root:Episode: 058, Reward: 011\n",
            "INFO:root:Episode: 059, Reward: 024\n",
            "INFO:root:Episode: 060, Reward: 017\n",
            "INFO:root:Episode: 061, Reward: 042\n",
            "INFO:root:Episode: 062, Reward: 026\n",
            "INFO:root:Episode: 063, Reward: 029\n",
            "INFO:root:Episode: 064, Reward: 025\n",
            "INFO:root:Episode: 065, Reward: 013\n",
            "INFO:root:Episode: 066, Reward: 031\n",
            "INFO:root:Episode: 067, Reward: 046\n",
            "INFO:root:Episode: 068, Reward: 029\n",
            "INFO:root:Episode: 069, Reward: 061\n",
            "INFO:root:Episode: 070, Reward: 013\n",
            "INFO:root:Episode: 071, Reward: 040\n",
            "INFO:root:Episode: 072, Reward: 053\n",
            "INFO:root:Episode: 073, Reward: 014\n",
            "INFO:root:Episode: 074, Reward: 054\n",
            "INFO:root:Episode: 075, Reward: 035\n",
            "INFO:root:Episode: 076, Reward: 015\n",
            "INFO:root:Episode: 077, Reward: 111\n",
            "INFO:root:Episode: 078, Reward: 034\n",
            "INFO:root:Episode: 079, Reward: 016\n",
            "INFO:root:Episode: 080, Reward: 028\n",
            "INFO:root:Episode: 081, Reward: 019\n",
            "INFO:root:Episode: 082, Reward: 025\n",
            "INFO:root:Episode: 083, Reward: 031\n",
            "INFO:root:Episode: 084, Reward: 027\n",
            "INFO:root:Episode: 085, Reward: 066\n",
            "INFO:root:Episode: 086, Reward: 013\n",
            "INFO:root:Episode: 087, Reward: 015\n",
            "INFO:root:Episode: 088, Reward: 012\n",
            "INFO:root:Episode: 089, Reward: 032\n",
            "INFO:root:Episode: 090, Reward: 016\n",
            "INFO:root:Episode: 091, Reward: 028\n",
            "INFO:root:Episode: 092, Reward: 021\n",
            "INFO:root:Episode: 093, Reward: 028\n",
            "INFO:root:Episode: 094, Reward: 037\n",
            "INFO:root:Episode: 095, Reward: 013\n",
            "INFO:root:Episode: 096, Reward: 014\n",
            "INFO:root:Episode: 097, Reward: 040\n",
            "INFO:root:Episode: 098, Reward: 043\n",
            "INFO:root:Episode: 099, Reward: 021\n",
            "INFO:root:Episode: 100, Reward: 018\n",
            "INFO:root:Episode: 101, Reward: 027\n",
            "INFO:root:Episode: 102, Reward: 034\n",
            "INFO:root:Episode: 103, Reward: 020\n",
            "INFO:root:Episode: 104, Reward: 024\n",
            "INFO:root:Episode: 105, Reward: 072\n",
            "INFO:root:Episode: 106, Reward: 024\n",
            "INFO:root:Episode: 107, Reward: 102\n",
            "INFO:root:Episode: 108, Reward: 028\n",
            "INFO:root:Episode: 109, Reward: 017\n",
            "INFO:root:Episode: 110, Reward: 015\n",
            "INFO:root:Episode: 111, Reward: 015\n",
            "INFO:root:Episode: 112, Reward: 061\n",
            "INFO:root:Episode: 113, Reward: 024\n",
            "INFO:root:Episode: 114, Reward: 039\n",
            "INFO:root:Episode: 115, Reward: 037\n",
            "INFO:root:Episode: 116, Reward: 020\n",
            "INFO:root:Episode: 117, Reward: 014\n",
            "INFO:root:Episode: 118, Reward: 019\n",
            "INFO:root:Episode: 119, Reward: 049\n",
            "INFO:root:Episode: 120, Reward: 044\n",
            "INFO:root:Episode: 121, Reward: 047\n",
            "INFO:root:Episode: 122, Reward: 019\n",
            "INFO:root:Episode: 123, Reward: 033\n",
            "INFO:root:Episode: 124, Reward: 052\n",
            "INFO:root:Episode: 125, Reward: 018\n",
            "INFO:root:Episode: 126, Reward: 025\n",
            "INFO:root:Episode: 127, Reward: 047\n",
            "INFO:root:Episode: 128, Reward: 043\n",
            "INFO:root:Episode: 129, Reward: 083\n",
            "INFO:root:Episode: 130, Reward: 046\n",
            "INFO:root:Episode: 131, Reward: 038\n",
            "INFO:root:Episode: 132, Reward: 026\n",
            "INFO:root:Episode: 133, Reward: 029\n",
            "INFO:root:Episode: 134, Reward: 037\n",
            "INFO:root:Episode: 135, Reward: 039\n",
            "INFO:root:Episode: 136, Reward: 017\n",
            "INFO:root:Episode: 137, Reward: 040\n",
            "INFO:root:Episode: 138, Reward: 030\n",
            "INFO:root:Episode: 139, Reward: 025\n",
            "INFO:root:Episode: 140, Reward: 042\n",
            "INFO:root:Episode: 141, Reward: 025\n",
            "INFO:root:Episode: 142, Reward: 017\n",
            "INFO:root:Episode: 143, Reward: 058\n",
            "INFO:root:Episode: 144, Reward: 041\n",
            "INFO:root:Episode: 145, Reward: 025\n",
            "INFO:root:Episode: 146, Reward: 032\n",
            "INFO:root:Episode: 147, Reward: 017\n",
            "INFO:root:Episode: 148, Reward: 033\n",
            "INFO:root:Episode: 149, Reward: 048\n",
            "INFO:root:Episode: 150, Reward: 028\n",
            "INFO:root:Episode: 151, Reward: 036\n",
            "INFO:root:Episode: 152, Reward: 017\n",
            "INFO:root:Episode: 153, Reward: 038\n",
            "INFO:root:Episode: 154, Reward: 029\n",
            "INFO:root:Episode: 155, Reward: 055\n",
            "INFO:root:Episode: 156, Reward: 072\n",
            "INFO:root:Episode: 157, Reward: 035\n",
            "INFO:root:Episode: 158, Reward: 029\n",
            "INFO:root:Episode: 159, Reward: 056\n",
            "INFO:root:Episode: 160, Reward: 050\n",
            "INFO:root:Episode: 161, Reward: 047\n",
            "INFO:root:Episode: 162, Reward: 037\n",
            "INFO:root:Episode: 163, Reward: 041\n",
            "INFO:root:Episode: 164, Reward: 024\n",
            "INFO:root:Episode: 165, Reward: 017\n",
            "INFO:root:Episode: 166, Reward: 062\n",
            "INFO:root:Episode: 167, Reward: 011\n",
            "INFO:root:Episode: 168, Reward: 033\n",
            "INFO:root:Episode: 169, Reward: 041\n",
            "INFO:root:Episode: 170, Reward: 107\n",
            "INFO:root:Episode: 171, Reward: 074\n",
            "INFO:root:Episode: 172, Reward: 025\n",
            "INFO:root:Episode: 173, Reward: 053\n",
            "INFO:root:Episode: 174, Reward: 037\n",
            "INFO:root:Episode: 175, Reward: 080\n",
            "INFO:root:Episode: 176, Reward: 060\n",
            "INFO:root:Episode: 177, Reward: 038\n",
            "INFO:root:Episode: 178, Reward: 056\n",
            "INFO:root:Episode: 179, Reward: 101\n",
            "INFO:root:Episode: 180, Reward: 041\n",
            "INFO:root:Episode: 181, Reward: 037\n",
            "INFO:root:Episode: 182, Reward: 043\n",
            "INFO:root:Episode: 183, Reward: 119\n",
            "INFO:root:Episode: 184, Reward: 047\n",
            "INFO:root:Episode: 185, Reward: 037\n",
            "INFO:root:Episode: 186, Reward: 037\n",
            "INFO:root:Episode: 187, Reward: 022\n",
            "INFO:root:Episode: 188, Reward: 055\n",
            "INFO:root:Episode: 189, Reward: 027\n",
            "INFO:root:Episode: 190, Reward: 102\n",
            "INFO:root:Episode: 191, Reward: 066\n",
            "INFO:root:Episode: 192, Reward: 068\n",
            "INFO:root:Episode: 193, Reward: 077\n",
            "INFO:root:Episode: 194, Reward: 040\n",
            "INFO:root:Episode: 195, Reward: 022\n",
            "INFO:root:Episode: 196, Reward: 070\n",
            "INFO:root:Episode: 197, Reward: 086\n",
            "INFO:root:Episode: 198, Reward: 044\n",
            "INFO:root:Episode: 199, Reward: 042\n",
            "INFO:root:Episode: 200, Reward: 039\n",
            "INFO:root:Episode: 201, Reward: 029\n",
            "INFO:root:Episode: 202, Reward: 094\n",
            "INFO:root:Episode: 203, Reward: 118\n",
            "INFO:root:Episode: 204, Reward: 013\n",
            "INFO:root:Episode: 205, Reward: 087\n",
            "INFO:root:Episode: 206, Reward: 094\n",
            "INFO:root:Episode: 207, Reward: 026\n",
            "INFO:root:Episode: 208, Reward: 088\n",
            "INFO:root:Episode: 209, Reward: 048\n",
            "INFO:root:Episode: 210, Reward: 031\n",
            "INFO:root:Episode: 211, Reward: 040\n",
            "INFO:root:Episode: 212, Reward: 059\n",
            "INFO:root:Episode: 213, Reward: 046\n",
            "INFO:root:Episode: 214, Reward: 065\n",
            "INFO:root:Episode: 215, Reward: 042\n",
            "INFO:root:Episode: 216, Reward: 025\n",
            "INFO:root:Episode: 217, Reward: 043\n",
            "INFO:root:Episode: 218, Reward: 045\n",
            "INFO:root:Episode: 219, Reward: 046\n",
            "INFO:root:Episode: 220, Reward: 093\n",
            "INFO:root:Episode: 221, Reward: 036\n",
            "INFO:root:Episode: 222, Reward: 022\n",
            "INFO:root:Episode: 223, Reward: 017\n",
            "INFO:root:Episode: 224, Reward: 046\n",
            "INFO:root:Episode: 225, Reward: 030\n",
            "INFO:root:Episode: 226, Reward: 061\n",
            "INFO:root:Episode: 227, Reward: 049\n",
            "INFO:root:Episode: 228, Reward: 037\n",
            "INFO:root:Episode: 229, Reward: 075\n",
            "INFO:root:Episode: 230, Reward: 068\n",
            "INFO:root:Episode: 231, Reward: 023\n",
            "INFO:root:Episode: 232, Reward: 119\n",
            "INFO:root:Episode: 233, Reward: 029\n",
            "INFO:root:Episode: 234, Reward: 036\n",
            "INFO:root:Episode: 235, Reward: 054\n",
            "INFO:root:Episode: 236, Reward: 072\n",
            "INFO:root:Episode: 237, Reward: 076\n",
            "INFO:root:Episode: 238, Reward: 108\n",
            "INFO:root:Episode: 239, Reward: 020\n",
            "INFO:root:Episode: 240, Reward: 039\n",
            "INFO:root:Episode: 241, Reward: 025\n",
            "INFO:root:Episode: 242, Reward: 037\n",
            "INFO:root:Episode: 243, Reward: 063\n",
            "INFO:root:Episode: 244, Reward: 083\n",
            "INFO:root:Episode: 245, Reward: 110\n",
            "INFO:root:Episode: 246, Reward: 016\n",
            "INFO:root:Episode: 247, Reward: 099\n",
            "INFO:root:Episode: 248, Reward: 065\n",
            "INFO:root:Episode: 249, Reward: 042\n",
            "INFO:root:Episode: 250, Reward: 034\n",
            "INFO:root:Episode: 251, Reward: 019\n",
            "INFO:root:Episode: 252, Reward: 102\n",
            "INFO:root:Episode: 253, Reward: 105\n",
            "INFO:root:Episode: 254, Reward: 122\n",
            "INFO:root:Episode: 255, Reward: 041\n",
            "INFO:root:Episode: 256, Reward: 044\n",
            "INFO:root:Episode: 257, Reward: 074\n",
            "INFO:root:Episode: 258, Reward: 084\n",
            "INFO:root:Episode: 259, Reward: 045\n",
            "INFO:root:Episode: 260, Reward: 067\n",
            "INFO:root:Episode: 261, Reward: 025\n",
            "INFO:root:Episode: 262, Reward: 097\n",
            "INFO:root:Episode: 263, Reward: 067\n",
            "INFO:root:Episode: 264, Reward: 052\n",
            "INFO:root:Episode: 265, Reward: 036\n",
            "INFO:root:Episode: 266, Reward: 052\n",
            "INFO:root:Episode: 267, Reward: 037\n",
            "INFO:root:Episode: 268, Reward: 036\n",
            "INFO:root:Episode: 269, Reward: 036\n",
            "INFO:root:Episode: 270, Reward: 070\n",
            "INFO:root:Episode: 271, Reward: 048\n",
            "INFO:root:Episode: 272, Reward: 161\n",
            "INFO:root:Episode: 273, Reward: 169\n",
            "INFO:root:Episode: 274, Reward: 068\n",
            "INFO:root:Episode: 275, Reward: 062\n",
            "INFO:root:Episode: 276, Reward: 049\n",
            "INFO:root:Episode: 277, Reward: 036\n",
            "INFO:root:Episode: 278, Reward: 069\n",
            "INFO:root:Episode: 279, Reward: 078\n",
            "INFO:root:Episode: 280, Reward: 109\n",
            "INFO:root:Episode: 281, Reward: 065\n",
            "INFO:root:Episode: 282, Reward: 108\n",
            "INFO:root:Episode: 283, Reward: 159\n",
            "INFO:root:Episode: 284, Reward: 080\n",
            "INFO:root:Episode: 285, Reward: 062\n",
            "INFO:root:Episode: 286, Reward: 074\n",
            "INFO:root:Episode: 287, Reward: 049\n",
            "INFO:root:Episode: 288, Reward: 158\n",
            "INFO:root:Episode: 289, Reward: 050\n",
            "INFO:root:Episode: 290, Reward: 084\n",
            "INFO:root:Episode: 291, Reward: 046\n",
            "INFO:root:Episode: 292, Reward: 075\n",
            "INFO:root:Episode: 293, Reward: 075\n",
            "INFO:root:Episode: 294, Reward: 096\n",
            "INFO:root:Episode: 295, Reward: 138\n",
            "INFO:root:Episode: 296, Reward: 037\n",
            "INFO:root:Episode: 297, Reward: 036\n",
            "INFO:root:Episode: 298, Reward: 070\n",
            "INFO:root:Episode: 299, Reward: 168\n",
            "INFO:root:Episode: 300, Reward: 055\n",
            "INFO:root:Episode: 301, Reward: 049\n",
            "INFO:root:Episode: 302, Reward: 163\n",
            "INFO:root:Episode: 303, Reward: 051\n",
            "INFO:root:Episode: 304, Reward: 126\n",
            "INFO:root:Episode: 305, Reward: 087\n",
            "INFO:root:Episode: 306, Reward: 105\n",
            "INFO:root:Episode: 307, Reward: 136\n",
            "INFO:root:Episode: 308, Reward: 169\n",
            "INFO:root:Episode: 309, Reward: 077\n",
            "INFO:root:Episode: 310, Reward: 160\n",
            "INFO:root:Episode: 311, Reward: 072\n",
            "INFO:root:Episode: 312, Reward: 068\n",
            "INFO:root:Episode: 313, Reward: 087\n",
            "INFO:root:Episode: 314, Reward: 173\n",
            "INFO:root:Episode: 315, Reward: 072\n",
            "INFO:root:Episode: 316, Reward: 113\n",
            "INFO:root:Episode: 317, Reward: 100\n",
            "INFO:root:Episode: 318, Reward: 030\n",
            "INFO:root:Episode: 319, Reward: 056\n",
            "INFO:root:Episode: 320, Reward: 083\n",
            "INFO:root:Episode: 321, Reward: 134\n",
            "INFO:root:Episode: 322, Reward: 035\n",
            "INFO:root:Episode: 323, Reward: 051\n",
            "INFO:root:Episode: 324, Reward: 126\n",
            "INFO:root:Episode: 325, Reward: 110\n",
            "INFO:root:Episode: 326, Reward: 066\n",
            "INFO:root:Episode: 327, Reward: 115\n",
            "INFO:root:Episode: 328, Reward: 014\n",
            "INFO:root:Episode: 329, Reward: 067\n",
            "INFO:root:Episode: 330, Reward: 200\n",
            "INFO:root:Episode: 331, Reward: 158\n",
            "INFO:root:Episode: 332, Reward: 165\n",
            "INFO:root:Episode: 333, Reward: 114\n",
            "INFO:root:Episode: 334, Reward: 152\n",
            "INFO:root:Episode: 335, Reward: 162\n",
            "INFO:root:Episode: 336, Reward: 104\n",
            "INFO:root:Episode: 337, Reward: 133\n",
            "INFO:root:Episode: 338, Reward: 200\n",
            "INFO:root:Episode: 339, Reward: 146\n",
            "INFO:root:Episode: 340, Reward: 180\n",
            "INFO:root:Episode: 341, Reward: 200\n",
            "INFO:root:Episode: 342, Reward: 200\n",
            "INFO:root:Episode: 343, Reward: 177\n",
            "INFO:root:Episode: 344, Reward: 136\n",
            "INFO:root:Episode: 345, Reward: 194\n",
            "INFO:root:Episode: 346, Reward: 051\n",
            "INFO:root:Episode: 347, Reward: 116\n",
            "INFO:root:Episode: 348, Reward: 110\n",
            "INFO:root:Episode: 349, Reward: 184\n",
            "INFO:root:Episode: 350, Reward: 113\n",
            "INFO:root:Episode: 351, Reward: 134\n",
            "INFO:root:Episode: 352, Reward: 189\n",
            "INFO:root:Episode: 353, Reward: 114\n",
            "INFO:root:Episode: 354, Reward: 200\n",
            "INFO:root:Episode: 355, Reward: 141\n",
            "INFO:root:Episode: 356, Reward: 144\n",
            "INFO:root:Episode: 357, Reward: 160\n",
            "INFO:root:Episode: 358, Reward: 200\n",
            "INFO:root:Episode: 359, Reward: 155\n",
            "INFO:root:Episode: 360, Reward: 122\n",
            "INFO:root:Episode: 361, Reward: 200\n",
            "INFO:root:Episode: 362, Reward: 200\n",
            "INFO:root:Episode: 363, Reward: 132\n",
            "INFO:root:Episode: 364, Reward: 200\n",
            "INFO:root:Episode: 365, Reward: 180\n",
            "INFO:root:Episode: 366, Reward: 116\n",
            "INFO:root:Episode: 367, Reward: 192\n",
            "INFO:root:Episode: 368, Reward: 200\n",
            "INFO:root:Episode: 369, Reward: 044\n",
            "INFO:root:Episode: 370, Reward: 200\n",
            "INFO:root:Episode: 371, Reward: 143\n",
            "INFO:root:Episode: 372, Reward: 165\n",
            "INFO:root:Episode: 373, Reward: 200\n",
            "INFO:root:Episode: 374, Reward: 200\n",
            "INFO:root:Episode: 375, Reward: 072\n",
            "INFO:root:Episode: 376, Reward: 126\n",
            "INFO:root:Episode: 377, Reward: 200\n",
            "INFO:root:Episode: 378, Reward: 200\n",
            "INFO:root:Episode: 379, Reward: 106\n",
            "INFO:root:Episode: 380, Reward: 167\n",
            "INFO:root:Episode: 381, Reward: 200\n",
            "INFO:root:Episode: 382, Reward: 132\n",
            "INFO:root:Episode: 383, Reward: 063\n",
            "INFO:root:Episode: 384, Reward: 200\n",
            "INFO:root:Episode: 385, Reward: 200\n",
            "INFO:root:Episode: 386, Reward: 044\n",
            "INFO:root:Episode: 387, Reward: 200\n",
            "INFO:root:Episode: 388, Reward: 016\n",
            "INFO:root:Episode: 389, Reward: 089\n",
            "INFO:root:Episode: 390, Reward: 200\n",
            "INFO:root:Episode: 391, Reward: 134\n",
            "INFO:root:Episode: 392, Reward: 081\n",
            "INFO:root:Episode: 393, Reward: 122\n",
            "INFO:root:Episode: 394, Reward: 200\n",
            "INFO:root:Episode: 395, Reward: 049\n",
            "INFO:root:Episode: 396, Reward: 174\n",
            "INFO:root:Episode: 397, Reward: 196\n",
            "INFO:root:Episode: 398, Reward: 200\n",
            "INFO:root:Episode: 399, Reward: 200\n",
            "INFO:root:Episode: 400, Reward: 200\n",
            "INFO:root:Episode: 401, Reward: 200\n",
            "INFO:root:Episode: 402, Reward: 200\n",
            "INFO:root:Episode: 403, Reward: 200\n",
            "INFO:root:Episode: 404, Reward: 197\n",
            "INFO:root:Episode: 405, Reward: 200\n",
            "INFO:root:Episode: 406, Reward: 200\n",
            "INFO:root:Episode: 407, Reward: 200\n",
            "INFO:root:Episode: 408, Reward: 200\n",
            "INFO:root:Episode: 409, Reward: 177\n",
            "INFO:root:Episode: 410, Reward: 160\n",
            "INFO:root:Episode: 411, Reward: 125\n",
            "INFO:root:Episode: 412, Reward: 142\n",
            "INFO:root:Episode: 413, Reward: 200\n",
            "INFO:root:Episode: 414, Reward: 130\n",
            "INFO:root:Episode: 415, Reward: 179\n",
            "INFO:root:Episode: 416, Reward: 200\n",
            "INFO:root:Episode: 417, Reward: 113\n",
            "INFO:root:Episode: 418, Reward: 200\n",
            "INFO:root:Episode: 419, Reward: 194\n",
            "INFO:root:Episode: 420, Reward: 134\n",
            "INFO:root:Episode: 421, Reward: 200\n",
            "INFO:root:Episode: 422, Reward: 200\n",
            "INFO:root:Episode: 423, Reward: 164\n",
            "INFO:root:Episode: 424, Reward: 200\n",
            "INFO:root:Episode: 425, Reward: 200\n",
            "INFO:root:Episode: 426, Reward: 137\n",
            "INFO:root:Episode: 427, Reward: 140\n",
            "INFO:root:Episode: 428, Reward: 200\n"
          ],
          "name": "stderr"
        },
        {
          "output_type": "stream",
          "text": [
            "Finished training.\n"
          ],
          "name": "stdout"
        }
      ]
    },
    {
      "metadata": {
        "id": "UJ7Ss140g4Zs",
        "colab_type": "text"
      },
      "cell_type": "markdown",
      "source": [
        "### Testing with Trained Model"
      ]
    },
    {
      "metadata": {
        "id": "lbM_P6CMg4Zt",
        "colab_type": "code",
        "outputId": "1da431ea-dba5-4cfe-d3d1-6c8ed202920b",
        "colab": {
          "base_uri": "https://localhost:8080/",
          "height": 35
        }
      },
      "cell_type": "code",
      "source": [
        "print(\"Total Episode Reward: %d out of 200\" % agent.test(env))"
      ],
      "execution_count": 18,
      "outputs": [
        {
          "output_type": "stream",
          "text": [
            "Total Episode Reward: 200 out of 200\n"
          ],
          "name": "stdout"
        }
      ]
    },
    {
      "metadata": {
        "id": "2RFDN0Smg4Zv",
        "colab_type": "text"
      },
      "cell_type": "markdown",
      "source": [
        "### Training Rewards History"
      ]
    },
    {
      "metadata": {
        "id": "ou6PDK8ig4Zx",
        "colab_type": "code",
        "outputId": "d761a619-c58f-4805-def2-4901bb49c60d",
        "colab": {
          "base_uri": "https://localhost:8080/",
          "height": 361
        }
      },
      "cell_type": "code",
      "source": [
        "plt.style.use('seaborn')\n",
        "plt.plot(np.arange(0, len(rewards_history), 25), rewards_history[::25])\n",
        "plt.xlabel('Episode')\n",
        "plt.ylabel('Total Reward')\n",
        "plt.show()"
      ],
      "execution_count": 19,
      "outputs": [
        {
          "output_type": "display_data",
          "data": {
            "image/png": "[encoded data removed]",
            "text/plain": [
              "<Figure size 576x396 with 1 Axes>"
            ]
          },
          "metadata": {
            "tags": []
          }
        }
      ]
    },
    {
      "metadata": {
        "id": "zrtyfS8Sg4Z0",
        "colab_type": "text"
      },
      "cell_type": "markdown",
      "source": [
        "## Static Computational Graph"
      ]
    },
    {
      "metadata": {
        "id": "5WA6tTTrg4Z1",
        "colab_type": "code",
        "outputId": "72dd40f4-d017-48a1-805b-084fec80dec2",
        "colab": {
          "base_uri": "https://localhost:8080/",
          "height": 7592
        }
      },
      "cell_type": "code",
      "source": [
        "with tf.Graph().as_default():\n",
        "    print(\"Eager Execution:\", tf.executing_eagerly()) # False\n",
        "\n",
        "    model = Model(num_actions=env.action_space.n)\n",
        "    agent = A2CAgent(model)\n",
        "\n",
        "    rewards_history = agent.train(env)\n",
        "    print(\"Finished training, testing...\")\n",
        "    print(\"Total Episode Reward: %d out of 200\" % agent.test(env))"
      ],
      "execution_count": 20,
      "outputs": [
        {
          "output_type": "stream",
          "text": [
            "Eager Execution: False\n",
            "WARNING:tensorflow:From /usr/local/lib/python3.6/dist-packages/tensorflow/python/ops/init_ops.py:1253: calling VarianceScaling.__init__ (from tensorflow.python.ops.init_ops) with dtype is deprecated and will be removed in a future version.\n",
            "Instructions for updating:\n",
            "Call initializer instance with the dtype argument instead of passing it to the constructor\n"
          ],
          "name": "stdout"
        },
        {
          "output_type": "stream",
          "text": [
            "WARNING:tensorflow:From /usr/local/lib/python3.6/dist-packages/tensorflow/python/ops/init_ops.py:1253: calling VarianceScaling.__init__ (from tensorflow.python.ops.init_ops) with dtype is deprecated and will be removed in a future version.\n",
            "Instructions for updating:\n",
            "Call initializer instance with the dtype argument instead of passing it to the constructor\n",
            "INFO:root:Episode: 001, Reward: 011\n",
            "INFO:root:Episode: 002, Reward: 011\n"
          ],
          "name": "stderr"
        },
        {
          "output_type": "stream",
          "text": [
            "WARNING:tensorflow:From /usr/local/lib/python3.6/dist-packages/tensorflow/python/keras/engine/base_layer_utils.py:123: calling Zeros.__init__ (from tensorflow.python.ops.init_ops) with dtype is deprecated and will be removed in a future version.\n",
            "Instructions for updating:\n",
            "Call initializer instance with the dtype argument instead of passing it to the constructor\n"
          ],
          "name": "stdout"
        },
        {
          "output_type": "stream",
          "text": [
            "WARNING:tensorflow:From /usr/local/lib/python3.6/dist-packages/tensorflow/python/keras/engine/base_layer_utils.py:123: calling Zeros.__init__ (from tensorflow.python.ops.init_ops) with dtype is deprecated and will be removed in a future version.\n",
            "Instructions for updating:\n",
            "Call initializer instance with the dtype argument instead of passing it to the constructor\n",
            "INFO:root:Episode: 003, Reward: 011\n",
            "INFO:root:Episode: 004, Reward: 025\n",
            "INFO:root:Episode: 005, Reward: 018\n",
            "INFO:root:Episode: 006, Reward: 033\n",
            "INFO:root:Episode: 007, Reward: 029\n",
            "INFO:root:Episode: 008, Reward: 026\n",
            "INFO:root:Episode: 009, Reward: 035\n",
            "INFO:root:Episode: 010, Reward: 020\n",
            "INFO:root:Episode: 011, Reward: 011\n",
            "INFO:root:Episode: 012, Reward: 017\n",
            "INFO:root:Episode: 013, Reward: 012\n",
            "INFO:root:Episode: 014, Reward: 041\n",
            "INFO:root:Episode: 015, Reward: 040\n",
            "INFO:root:Episode: 016, Reward: 012\n",
            "INFO:root:Episode: 017, Reward: 014\n",
            "INFO:root:Episode: 018, Reward: 018\n",
            "INFO:root:Episode: 019, Reward: 021\n",
            "INFO:root:Episode: 020, Reward: 013\n",
            "INFO:root:Episode: 021, Reward: 056\n",
            "INFO:root:Episode: 022, Reward: 035\n",
            "INFO:root:Episode: 023, Reward: 022\n",
            "INFO:root:Episode: 024, Reward: 034\n",
            "INFO:root:Episode: 025, Reward: 026\n",
            "INFO:root:Episode: 026, Reward: 045\n",
            "INFO:root:Episode: 027, Reward: 011\n",
            "INFO:root:Episode: 028, Reward: 020\n",
            "INFO:root:Episode: 029, Reward: 022\n",
            "INFO:root:Episode: 030, Reward: 011\n",
            "INFO:root:Episode: 031, Reward: 015\n",
            "INFO:root:Episode: 032, Reward: 011\n",
            "INFO:root:Episode: 033, Reward: 025\n",
            "INFO:root:Episode: 034, Reward: 041\n",
            "INFO:root:Episode: 035, Reward: 019\n",
            "INFO:root:Episode: 036, Reward: 030\n",
            "INFO:root:Episode: 037, Reward: 016\n",
            "INFO:root:Episode: 038, Reward: 032\n",
            "INFO:root:Episode: 039, Reward: 019\n",
            "INFO:root:Episode: 040, Reward: 096\n",
            "INFO:root:Episode: 041, Reward: 055\n",
            "INFO:root:Episode: 042, Reward: 011\n",
            "INFO:root:Episode: 043, Reward: 027\n",
            "INFO:root:Episode: 044, Reward: 025\n",
            "INFO:root:Episode: 045, Reward: 073\n",
            "INFO:root:Episode: 046, Reward: 012\n",
            "INFO:root:Episode: 047, Reward: 027\n",
            "INFO:root:Episode: 048, Reward: 012\n",
            "INFO:root:Episode: 049, Reward: 020\n",
            "INFO:root:Episode: 050, Reward: 066\n",
            "INFO:root:Episode: 051, Reward: 036\n",
            "INFO:root:Episode: 052, Reward: 022\n",
            "INFO:root:Episode: 053, Reward: 032\n",
            "INFO:root:Episode: 054, Reward: 032\n",
            "INFO:root:Episode: 055, Reward: 016\n",
            "INFO:root:Episode: 056, Reward: 037\n",
            "INFO:root:Episode: 057, Reward: 062\n",
            "INFO:root:Episode: 058, Reward: 016\n",
            "INFO:root:Episode: 059, Reward: 019\n",
            "INFO:root:Episode: 060, Reward: 035\n",
            "INFO:root:Episode: 061, Reward: 025\n",
            "INFO:root:Episode: 062, Reward: 032\n",
            "INFO:root:Episode: 063, Reward: 017\n",
            "INFO:root:Episode: 064, Reward: 073\n",
            "INFO:root:Episode: 065, Reward: 027\n",
            "INFO:root:Episode: 066, Reward: 010\n",
            "INFO:root:Episode: 067, Reward: 017\n",
            "INFO:root:Episode: 068, Reward: 031\n",
            "INFO:root:Episode: 069, Reward: 018\n",
            "INFO:root:Episode: 070, Reward: 031\n",
            "INFO:root:Episode: 071, Reward: 045\n",
            "INFO:root:Episode: 072, Reward: 022\n",
            "INFO:root:Episode: 073, Reward: 017\n",
            "INFO:root:Episode: 074, Reward: 028\n",
            "INFO:root:Episode: 075, Reward: 015\n",
            "INFO:root:Episode: 076, Reward: 032\n",
            "INFO:root:Episode: 077, Reward: 026\n",
            "INFO:root:Episode: 078, Reward: 021\n",
            "INFO:root:Episode: 079, Reward: 059\n",
            "INFO:root:Episode: 080, Reward: 053\n",
            "INFO:root:Episode: 081, Reward: 047\n",
            "INFO:root:Episode: 082, Reward: 023\n",
            "INFO:root:Episode: 083, Reward: 053\n",
            "INFO:root:Episode: 084, Reward: 027\n",
            "INFO:root:Episode: 085, Reward: 015\n",
            "INFO:root:Episode: 086, Reward: 031\n",
            "INFO:root:Episode: 087, Reward: 013\n",
            "INFO:root:Episode: 088, Reward: 033\n",
            "INFO:root:Episode: 089, Reward: 016\n",
            "INFO:root:Episode: 090, Reward: 017\n",
            "INFO:root:Episode: 091, Reward: 030\n",
            "INFO:root:Episode: 092, Reward: 045\n",
            "INFO:root:Episode: 093, Reward: 030\n",
            "INFO:root:Episode: 094, Reward: 025\n",
            "INFO:root:Episode: 095, Reward: 019\n",
            "INFO:root:Episode: 096, Reward: 022\n",
            "INFO:root:Episode: 097, Reward: 010\n",
            "INFO:root:Episode: 098, Reward: 022\n",
            "INFO:root:Episode: 099, Reward: 040\n",
            "INFO:root:Episode: 100, Reward: 015\n",
            "INFO:root:Episode: 101, Reward: 013\n",
            "INFO:root:Episode: 102, Reward: 032\n",
            "INFO:root:Episode: 103, Reward: 023\n",
            "INFO:root:Episode: 104, Reward: 035\n",
            "INFO:root:Episode: 105, Reward: 021\n",
            "INFO:root:Episode: 106, Reward: 016\n",
            "INFO:root:Episode: 107, Reward: 051\n",
            "INFO:root:Episode: 108, Reward: 028\n",
            "INFO:root:Episode: 109, Reward: 022\n",
            "INFO:root:Episode: 110, Reward: 023\n",
            "INFO:root:Episode: 111, Reward: 064\n",
            "INFO:root:Episode: 112, Reward: 018\n",
            "INFO:root:Episode: 113, Reward: 034\n",
            "INFO:root:Episode: 114, Reward: 026\n",
            "INFO:root:Episode: 115, Reward: 019\n",
            "INFO:root:Episode: 116, Reward: 036\n",
            "INFO:root:Episode: 117, Reward: 022\n",
            "INFO:root:Episode: 118, Reward: 033\n",
            "INFO:root:Episode: 119, Reward: 028\n",
            "INFO:root:Episode: 120, Reward: 024\n",
            "INFO:root:Episode: 121, Reward: 022\n",
            "INFO:root:Episode: 122, Reward: 031\n",
            "INFO:root:Episode: 123, Reward: 016\n",
            "INFO:root:Episode: 124, Reward: 022\n",
            "INFO:root:Episode: 125, Reward: 019\n",
            "INFO:root:Episode: 126, Reward: 023\n",
            "INFO:root:Episode: 127, Reward: 063\n",
            "INFO:root:Episode: 128, Reward: 027\n",
            "INFO:root:Episode: 129, Reward: 046\n",
            "INFO:root:Episode: 130, Reward: 093\n",
            "INFO:root:Episode: 131, Reward: 021\n",
            "INFO:root:Episode: 132, Reward: 078\n",
            "INFO:root:Episode: 133, Reward: 034\n",
            "INFO:root:Episode: 134, Reward: 027\n",
            "INFO:root:Episode: 135, Reward: 026\n",
            "INFO:root:Episode: 136, Reward: 017\n",
            "INFO:root:Episode: 137, Reward: 035\n",
            "INFO:root:Episode: 138, Reward: 043\n",
            "INFO:root:Episode: 139, Reward: 041\n",
            "INFO:root:Episode: 140, Reward: 047\n",
            "INFO:root:Episode: 141, Reward: 074\n",
            "INFO:root:Episode: 142, Reward: 043\n",
            "INFO:root:Episode: 143, Reward: 056\n",
            "INFO:root:Episode: 144, Reward: 020\n",
            "INFO:root:Episode: 145, Reward: 020\n",
            "INFO:root:Episode: 146, Reward: 020\n",
            "INFO:root:Episode: 147, Reward: 054\n",
            "INFO:root:Episode: 148, Reward: 039\n",
            "INFO:root:Episode: 149, Reward: 026\n",
            "INFO:root:Episode: 150, Reward: 078\n",
            "INFO:root:Episode: 151, Reward: 035\n",
            "INFO:root:Episode: 152, Reward: 047\n",
            "INFO:root:Episode: 153, Reward: 027\n",
            "INFO:root:Episode: 154, Reward: 019\n",
            "INFO:root:Episode: 155, Reward: 035\n",
            "INFO:root:Episode: 156, Reward: 068\n",
            "INFO:root:Episode: 157, Reward: 076\n",
            "INFO:root:Episode: 158, Reward: 063\n",
            "INFO:root:Episode: 159, Reward: 036\n",
            "INFO:root:Episode: 160, Reward: 028\n",
            "INFO:root:Episode: 161, Reward: 054\n",
            "INFO:root:Episode: 162, Reward: 025\n",
            "INFO:root:Episode: 163, Reward: 028\n",
            "INFO:root:Episode: 164, Reward: 074\n",
            "INFO:root:Episode: 165, Reward: 048\n",
            "INFO:root:Episode: 166, Reward: 037\n",
            "INFO:root:Episode: 167, Reward: 032\n",
            "INFO:root:Episode: 168, Reward: 037\n",
            "INFO:root:Episode: 169, Reward: 037\n",
            "INFO:root:Episode: 170, Reward: 020\n",
            "INFO:root:Episode: 171, Reward: 036\n",
            "INFO:root:Episode: 172, Reward: 023\n",
            "INFO:root:Episode: 173, Reward: 017\n",
            "INFO:root:Episode: 174, Reward: 028\n",
            "INFO:root:Episode: 175, Reward: 051\n",
            "INFO:root:Episode: 176, Reward: 118\n",
            "INFO:root:Episode: 177, Reward: 055\n",
            "INFO:root:Episode: 178, Reward: 047\n",
            "INFO:root:Episode: 179, Reward: 082\n",
            "INFO:root:Episode: 180, Reward: 035\n",
            "INFO:root:Episode: 181, Reward: 047\n",
            "INFO:root:Episode: 182, Reward: 013\n",
            "INFO:root:Episode: 183, Reward: 050\n",
            "INFO:root:Episode: 184, Reward: 021\n",
            "INFO:root:Episode: 185, Reward: 092\n",
            "INFO:root:Episode: 186, Reward: 079\n",
            "INFO:root:Episode: 187, Reward: 020\n",
            "INFO:root:Episode: 188, Reward: 063\n",
            "INFO:root:Episode: 189, Reward: 063\n",
            "INFO:root:Episode: 190, Reward: 021\n",
            "INFO:root:Episode: 191, Reward: 070\n",
            "INFO:root:Episode: 192, Reward: 082\n",
            "INFO:root:Episode: 193, Reward: 061\n",
            "INFO:root:Episode: 194, Reward: 141\n",
            "INFO:root:Episode: 195, Reward: 059\n",
            "INFO:root:Episode: 196, Reward: 093\n",
            "INFO:root:Episode: 197, Reward: 023\n",
            "INFO:root:Episode: 198, Reward: 043\n",
            "INFO:root:Episode: 199, Reward: 110\n",
            "INFO:root:Episode: 200, Reward: 042\n",
            "INFO:root:Episode: 201, Reward: 134\n",
            "INFO:root:Episode: 202, Reward: 051\n",
            "INFO:root:Episode: 203, Reward: 033\n",
            "INFO:root:Episode: 204, Reward: 021\n",
            "INFO:root:Episode: 205, Reward: 063\n",
            "INFO:root:Episode: 206, Reward: 104\n",
            "INFO:root:Episode: 207, Reward: 035\n",
            "INFO:root:Episode: 208, Reward: 038\n",
            "INFO:root:Episode: 209, Reward: 142\n",
            "INFO:root:Episode: 210, Reward: 088\n",
            "INFO:root:Episode: 211, Reward: 042\n",
            "INFO:root:Episode: 212, Reward: 035\n",
            "INFO:root:Episode: 213, Reward: 040\n",
            "INFO:root:Episode: 214, Reward: 013\n",
            "INFO:root:Episode: 215, Reward: 049\n",
            "INFO:root:Episode: 216, Reward: 029\n",
            "INFO:root:Episode: 217, Reward: 019\n",
            "INFO:root:Episode: 218, Reward: 046\n",
            "INFO:root:Episode: 219, Reward: 029\n",
            "INFO:root:Episode: 220, Reward: 035\n",
            "INFO:root:Episode: 221, Reward: 042\n",
            "INFO:root:Episode: 222, Reward: 078\n",
            "INFO:root:Episode: 223, Reward: 091\n",
            "INFO:root:Episode: 224, Reward: 023\n",
            "INFO:root:Episode: 225, Reward: 059\n",
            "INFO:root:Episode: 226, Reward: 062\n",
            "INFO:root:Episode: 227, Reward: 084\n",
            "INFO:root:Episode: 228, Reward: 081\n",
            "INFO:root:Episode: 229, Reward: 076\n",
            "INFO:root:Episode: 230, Reward: 040\n",
            "INFO:root:Episode: 231, Reward: 032\n",
            "INFO:root:Episode: 232, Reward: 118\n",
            "INFO:root:Episode: 233, Reward: 086\n",
            "INFO:root:Episode: 234, Reward: 041\n",
            "INFO:root:Episode: 235, Reward: 079\n",
            "INFO:root:Episode: 236, Reward: 030\n",
            "INFO:root:Episode: 237, Reward: 069\n",
            "INFO:root:Episode: 238, Reward: 095\n",
            "INFO:root:Episode: 239, Reward: 067\n",
            "INFO:root:Episode: 240, Reward: 118\n",
            "INFO:root:Episode: 241, Reward: 024\n",
            "INFO:root:Episode: 242, Reward: 074\n",
            "INFO:root:Episode: 243, Reward: 112\n",
            "INFO:root:Episode: 244, Reward: 076\n",
            "INFO:root:Episode: 245, Reward: 045\n",
            "INFO:root:Episode: 246, Reward: 012\n",
            "INFO:root:Episode: 247, Reward: 087\n",
            "INFO:root:Episode: 248, Reward: 073\n",
            "INFO:root:Episode: 249, Reward: 046\n",
            "INFO:root:Episode: 250, Reward: 065\n",
            "INFO:root:Episode: 251, Reward: 069\n",
            "INFO:root:Episode: 252, Reward: 078\n",
            "INFO:root:Episode: 253, Reward: 051\n",
            "INFO:root:Episode: 254, Reward: 075\n",
            "INFO:root:Episode: 255, Reward: 117\n",
            "INFO:root:Episode: 256, Reward: 051\n",
            "INFO:root:Episode: 257, Reward: 043\n",
            "INFO:root:Episode: 258, Reward: 070\n",
            "INFO:root:Episode: 259, Reward: 059\n",
            "INFO:root:Episode: 260, Reward: 074\n",
            "INFO:root:Episode: 261, Reward: 021\n",
            "INFO:root:Episode: 262, Reward: 041\n",
            "INFO:root:Episode: 263, Reward: 055\n",
            "INFO:root:Episode: 264, Reward: 076\n",
            "INFO:root:Episode: 265, Reward: 036\n",
            "INFO:root:Episode: 266, Reward: 149\n",
            "INFO:root:Episode: 267, Reward: 125\n",
            "INFO:root:Episode: 268, Reward: 099\n",
            "INFO:root:Episode: 269, Reward: 077\n",
            "INFO:root:Episode: 270, Reward: 037\n",
            "INFO:root:Episode: 271, Reward: 094\n",
            "INFO:root:Episode: 272, Reward: 113\n",
            "INFO:root:Episode: 273, Reward: 030\n",
            "INFO:root:Episode: 274, Reward: 124\n",
            "INFO:root:Episode: 275, Reward: 033\n",
            "INFO:root:Episode: 276, Reward: 152\n",
            "INFO:root:Episode: 277, Reward: 066\n",
            "INFO:root:Episode: 278, Reward: 080\n",
            "INFO:root:Episode: 279, Reward: 088\n",
            "INFO:root:Episode: 280, Reward: 100\n",
            "INFO:root:Episode: 281, Reward: 115\n",
            "INFO:root:Episode: 282, Reward: 085\n",
            "INFO:root:Episode: 283, Reward: 074\n",
            "INFO:root:Episode: 284, Reward: 200\n",
            "INFO:root:Episode: 285, Reward: 048\n",
            "INFO:root:Episode: 286, Reward: 121\n",
            "INFO:root:Episode: 287, Reward: 062\n",
            "INFO:root:Episode: 288, Reward: 080\n",
            "INFO:root:Episode: 289, Reward: 088\n",
            "INFO:root:Episode: 290, Reward: 180\n",
            "INFO:root:Episode: 291, Reward: 063\n",
            "INFO:root:Episode: 292, Reward: 200\n",
            "INFO:root:Episode: 293, Reward: 097\n",
            "INFO:root:Episode: 294, Reward: 095\n",
            "INFO:root:Episode: 295, Reward: 043\n",
            "INFO:root:Episode: 296, Reward: 099\n",
            "INFO:root:Episode: 297, Reward: 057\n",
            "INFO:root:Episode: 298, Reward: 068\n",
            "INFO:root:Episode: 299, Reward: 114\n",
            "INFO:root:Episode: 300, Reward: 082\n",
            "INFO:root:Episode: 301, Reward: 200\n",
            "INFO:root:Episode: 302, Reward: 081\n",
            "INFO:root:Episode: 303, Reward: 046\n",
            "INFO:root:Episode: 304, Reward: 041\n",
            "INFO:root:Episode: 305, Reward: 106\n",
            "INFO:root:Episode: 306, Reward: 105\n",
            "INFO:root:Episode: 307, Reward: 085\n",
            "INFO:root:Episode: 308, Reward: 162\n",
            "INFO:root:Episode: 309, Reward: 091\n",
            "INFO:root:Episode: 310, Reward: 124\n",
            "INFO:root:Episode: 311, Reward: 059\n",
            "INFO:root:Episode: 312, Reward: 082\n",
            "INFO:root:Episode: 313, Reward: 194\n",
            "INFO:root:Episode: 314, Reward: 115\n",
            "INFO:root:Episode: 315, Reward: 153\n",
            "INFO:root:Episode: 316, Reward: 195\n",
            "INFO:root:Episode: 317, Reward: 149\n",
            "INFO:root:Episode: 318, Reward: 093\n",
            "INFO:root:Episode: 319, Reward: 135\n",
            "INFO:root:Episode: 320, Reward: 062\n",
            "INFO:root:Episode: 321, Reward: 049\n",
            "INFO:root:Episode: 322, Reward: 091\n",
            "INFO:root:Episode: 323, Reward: 063\n",
            "INFO:root:Episode: 324, Reward: 053\n",
            "INFO:root:Episode: 325, Reward: 039\n",
            "INFO:root:Episode: 326, Reward: 200\n",
            "INFO:root:Episode: 327, Reward: 194\n",
            "INFO:root:Episode: 328, Reward: 117\n",
            "INFO:root:Episode: 329, Reward: 092\n",
            "INFO:root:Episode: 330, Reward: 173\n",
            "INFO:root:Episode: 331, Reward: 167\n",
            "INFO:root:Episode: 332, Reward: 038\n",
            "INFO:root:Episode: 333, Reward: 084\n",
            "INFO:root:Episode: 334, Reward: 164\n",
            "INFO:root:Episode: 335, Reward: 101\n",
            "INFO:root:Episode: 336, Reward: 163\n",
            "INFO:root:Episode: 337, Reward: 196\n",
            "INFO:root:Episode: 338, Reward: 146\n",
            "INFO:root:Episode: 339, Reward: 159\n",
            "INFO:root:Episode: 340, Reward: 200\n",
            "INFO:root:Episode: 341, Reward: 163\n",
            "INFO:root:Episode: 342, Reward: 068\n",
            "INFO:root:Episode: 343, Reward: 114\n",
            "INFO:root:Episode: 344, Reward: 061\n",
            "INFO:root:Episode: 345, Reward: 058\n",
            "INFO:root:Episode: 346, Reward: 124\n",
            "INFO:root:Episode: 347, Reward: 054\n",
            "INFO:root:Episode: 348, Reward: 119\n",
            "INFO:root:Episode: 349, Reward: 174\n",
            "INFO:root:Episode: 350, Reward: 184\n",
            "INFO:root:Episode: 351, Reward: 200\n",
            "INFO:root:Episode: 352, Reward: 120\n",
            "INFO:root:Episode: 353, Reward: 092\n",
            "INFO:root:Episode: 354, Reward: 158\n",
            "INFO:root:Episode: 355, Reward: 200\n",
            "INFO:root:Episode: 356, Reward: 092\n",
            "INFO:root:Episode: 357, Reward: 200\n",
            "INFO:root:Episode: 358, Reward: 122\n",
            "INFO:root:Episode: 359, Reward: 133\n",
            "INFO:root:Episode: 360, Reward: 129\n",
            "INFO:root:Episode: 361, Reward: 183\n",
            "INFO:root:Episode: 362, Reward: 122\n",
            "INFO:root:Episode: 363, Reward: 178\n",
            "INFO:root:Episode: 364, Reward: 122\n",
            "INFO:root:Episode: 365, Reward: 200\n",
            "INFO:root:Episode: 366, Reward: 166\n",
            "INFO:root:Episode: 367, Reward: 062\n",
            "INFO:root:Episode: 368, Reward: 165\n",
            "INFO:root:Episode: 369, Reward: 200\n",
            "INFO:root:Episode: 370, Reward: 119\n",
            "INFO:root:Episode: 371, Reward: 167\n",
            "INFO:root:Episode: 372, Reward: 087\n",
            "INFO:root:Episode: 373, Reward: 143\n",
            "INFO:root:Episode: 374, Reward: 187\n",
            "INFO:root:Episode: 375, Reward: 177\n",
            "INFO:root:Episode: 376, Reward: 134\n",
            "INFO:root:Episode: 377, Reward: 125\n",
            "INFO:root:Episode: 378, Reward: 172\n",
            "INFO:root:Episode: 379, Reward: 190\n",
            "INFO:root:Episode: 380, Reward: 200\n",
            "INFO:root:Episode: 381, Reward: 200\n",
            "INFO:root:Episode: 382, Reward: 200\n",
            "INFO:root:Episode: 383, Reward: 144\n",
            "INFO:root:Episode: 384, Reward: 131\n",
            "INFO:root:Episode: 385, Reward: 145\n",
            "INFO:root:Episode: 386, Reward: 193\n",
            "INFO:root:Episode: 387, Reward: 200\n",
            "INFO:root:Episode: 388, Reward: 200\n",
            "INFO:root:Episode: 389, Reward: 200\n",
            "INFO:root:Episode: 390, Reward: 169\n",
            "INFO:root:Episode: 391, Reward: 200\n",
            "INFO:root:Episode: 392, Reward: 138\n",
            "INFO:root:Episode: 393, Reward: 146\n",
            "INFO:root:Episode: 394, Reward: 200\n",
            "INFO:root:Episode: 395, Reward: 108\n",
            "INFO:root:Episode: 396, Reward: 200\n",
            "INFO:root:Episode: 397, Reward: 200\n",
            "INFO:root:Episode: 398, Reward: 200\n",
            "INFO:root:Episode: 399, Reward: 200\n",
            "INFO:root:Episode: 400, Reward: 193\n",
            "INFO:root:Episode: 401, Reward: 140\n",
            "INFO:root:Episode: 402, Reward: 147\n",
            "INFO:root:Episode: 403, Reward: 143\n",
            "INFO:root:Episode: 404, Reward: 141\n",
            "INFO:root:Episode: 405, Reward: 130\n",
            "INFO:root:Episode: 406, Reward: 117\n",
            "INFO:root:Episode: 407, Reward: 186\n",
            "INFO:root:Episode: 408, Reward: 121\n",
            "INFO:root:Episode: 409, Reward: 200\n",
            "INFO:root:Episode: 410, Reward: 145\n",
            "INFO:root:Episode: 411, Reward: 162\n",
            "INFO:root:Episode: 412, Reward: 103\n",
            "INFO:root:Episode: 413, Reward: 200\n",
            "INFO:root:Episode: 414, Reward: 198\n",
            "INFO:root:Episode: 415, Reward: 097\n",
            "INFO:root:Episode: 416, Reward: 200\n",
            "INFO:root:Episode: 417, Reward: 200\n",
            "INFO:root:Episode: 418, Reward: 200\n",
            "INFO:root:Episode: 419, Reward: 166\n",
            "INFO:root:Episode: 420, Reward: 189\n",
            "INFO:root:Episode: 421, Reward: 200\n",
            "INFO:root:Episode: 422, Reward: 200\n"
          ],
          "name": "stderr"
        },
        {
          "output_type": "stream",
          "text": [
            "Finished training, testing...\n",
            "Total Episode Reward: 200 out of 200\n"
          ],
          "name": "stdout"
        }
      ]
    },
    {
      "metadata": {
        "id": "0k55LpUOg4Z4",
        "colab_type": "text"
      },
      "cell_type": "markdown",
      "source": [
        "## Benchmarks"
      ]
    },
    {
      "metadata": {
        "id": "aR5J2WCZg4Z5",
        "colab_type": "code",
        "colab": {}
      },
      "cell_type": "code",
      "source": [
        "# Note: comparing wall time isn't exactly fair due to specifics of how things are executed on multi-core CPU"
      ],
      "execution_count": 0,
      "outputs": []
    },
    {
      "metadata": {
        "id": "fl51m1PXg4Z8",
        "colab_type": "code",
        "outputId": "98d38f2a-9544-4f16-a382-7028cef48c8d",
        "colab": {
          "base_uri": "https://localhost:8080/",
          "height": 52
        }
      },
      "cell_type": "code",
      "source": [
        "env = gym.make('CartPole-v0')\n",
        "obs = np.repeat(env.reset()[None, :], 100000, axis=0)"
      ],
      "execution_count": 28,
      "outputs": [
        {
          "output_type": "stream",
          "text": [
            "/usr/local/lib/python3.6/dist-packages/gym/envs/registration.py:14: PkgResourcesDeprecationWarning: Parameters to load are deprecated.  Call .resolve and .require separately.\n",
            "  result = entry_point.load(False)\n"
          ],
          "name": "stderr"
        }
      ]
    },
    {
      "metadata": {
        "id": "3Y6LxDvBg4Z9",
        "colab_type": "text"
      },
      "cell_type": "markdown",
      "source": [
        "### Eager Benchmark"
      ]
    },
    {
      "metadata": {
        "id": "8CpTEYnxg4Z_",
        "colab_type": "code",
        "outputId": "e8596afc-2c35-46bc-cab4-eb4a9f5e1e64",
        "colab": {
          "base_uri": "https://localhost:8080/",
          "height": 87
        }
      },
      "cell_type": "code",
      "source": [
        "%%time\n",
        "\n",
        "model = Model(env.action_space.n)\n",
        "model.run_eagerly = True\n",
        "\n",
        "print(\"Eager Execution:  \", tf.executing_eagerly())\n",
        "print(\"Eager Keras Model:\", model.run_eagerly)\n",
        "\n",
        "_ = model(obs)\n",
        "# _ = model.predict(obs)"
      ],
      "execution_count": 27,
      "outputs": [
        {
          "output_type": "stream",
          "text": [
            "Eager Execution:   True\n",
            "Eager Keras Model: True\n",
            "CPU times: user 385 ms, sys: 208 ms, total: 593 ms\n",
            "Wall time: 338 ms\n"
          ],
          "name": "stdout"
        }
      ]
    },
    {
      "metadata": {
        "id": "N-9FMyk-g4aB",
        "colab_type": "text"
      },
      "cell_type": "markdown",
      "source": [
        "### Static Benchmark"
      ]
    },
    {
      "metadata": {
        "id": "t3RqVlslg4aB",
        "colab_type": "code",
        "outputId": "eeb3fd0a-db03-42a6-ca31-237cc64bde60",
        "colab": {
          "base_uri": "https://localhost:8080/",
          "height": 87
        }
      },
      "cell_type": "code",
      "source": [
        "%%time\n",
        "\n",
        "with tf.Graph().as_default():\n",
        "    model = Model(env.action_space.n)\n",
        "\n",
        "    print(\"Eager Execution:  \", tf.executing_eagerly())\n",
        "    print(\"Eager Keras Model:\", model.run_eagerly)\n",
        "\n",
        "    _ = model.predict(obs)"
      ],
      "execution_count": 29,
      "outputs": [
        {
          "output_type": "stream",
          "text": [
            "Eager Execution:   False\n",
            "Eager Keras Model: False\n",
            "CPU times: user 1.87 s, sys: 211 ms, total: 2.08 s\n",
            "Wall time: 1.67 s\n"
          ],
          "name": "stdout"
        }
      ]
    },
    {
      "metadata": {
        "id": "vXKB5vcsg4aG",
        "colab_type": "text"
      },
      "cell_type": "markdown",
      "source": [
        "### Default Benchmark"
      ]
    },
    {
      "metadata": {
        "id": "3aqkh1yTg4aH",
        "colab_type": "code",
        "outputId": "647d4c2b-6335-4ef0-ae4a-74923db4c912",
        "colab": {
          "base_uri": "https://localhost:8080/",
          "height": 87
        }
      },
      "cell_type": "code",
      "source": [
        "%%time\n",
        "\n",
        "model = Model(env.action_space.n)\n",
        "\n",
        "print(\"Eager Execution:  \", tf.executing_eagerly())\n",
        "print(\"Eager Keras Model:\", model.run_eagerly)\n",
        "\n",
        "_ = model.predict(obs)"
      ],
      "execution_count": 30,
      "outputs": [
        {
          "output_type": "stream",
          "text": [
            "Eager Execution:   True\n",
            "Eager Keras Model: False\n",
            "CPU times: user 1.78 s, sys: 213 ms, total: 2 s\n",
            "Wall time: 1.58 s\n"
          ],
          "name": "stdout"
        }
      ]
    },
    {
      "metadata": {
        "id": "yAJVGO5aijD7",
        "colab_type": "code",
        "colab": {}
      },
      "cell_type": "code",
      "source": [
        ""
      ],
      "execution_count": 0,
      "outputs": []
    },
    {
      "metadata": {
        "id": "jMyOieITijX7",
        "colab_type": "code",
        "colab": {}
      },
      "cell_type": "code",
      "source": [
        ""
      ],
      "execution_count": 0,
      "outputs": []
    }
  ]
}